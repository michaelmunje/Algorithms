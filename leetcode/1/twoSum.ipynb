{
 "cells": [
  {
   "cell_type": "code",
   "execution_count": 26,
   "metadata": {},
   "outputs": [
    {
     "name": "stdout",
     "output_type": "stream",
     "text": [
      "Passed\n",
      "Passed\n",
      "Passed\n",
      "Passed\n",
      "Passed\n"
     ]
    }
   ],
   "source": [
    "def twoSumBruteForce(nums: [int], target: int) -> [int]:\n",
    "    for i in range(len(nums)):\n",
    "        for j in range(i + 1, len(nums)):\n",
    "            if (nums[i] + nums[j] == target):\n",
    "                return [i, j]\n",
    "    return []\n",
    "\n",
    "def twoSum(nums: [int], target: int) -> [int]:\n",
    "    for i in range(len(nums)):\n",
    "        for j in range(i + 1, len(nums)):\n",
    "            if (nums[i] + nums[j] == target):\n",
    "                return [i, j]\n",
    "    return []\n",
    "        \n",
    "        \n",
    "def testTwoSum(nums, target, expected):\n",
    "    if twoSum(nums=nums, target=target) == expected:\n",
    "        print(\"Passed\")\n",
    "    else:\n",
    "        print(\"FAILED\")\n",
    "        \n",
    "def runTestCases():\n",
    "    testTwoSum([2, 7, 11, 15], 9, [0, 1])\n",
    "    testTwoSum([3, 2, 5, 2], 8, [0, 2])\n",
    "    testTwoSum([3, 2, 5, 2], 20, [])\n",
    "    testTwoSum([3, 2, 3, 2], 6, [0, 2])\n",
    "    testTwoSum([3, 6, 3, 2], 4, [])\n",
    "    \n",
    "    \n",
    "runTestCases()\n",
    "    "
   ]
  }
 ],
 "metadata": {
  "kernelspec": {
   "display_name": "Python 3",
   "language": "python",
   "name": "python3"
  },
  "language_info": {
   "codemirror_mode": {
    "name": "ipython",
    "version": 3
   },
   "file_extension": ".py",
   "mimetype": "text/x-python",
   "name": "python",
   "nbconvert_exporter": "python",
   "pygments_lexer": "ipython3",
   "version": "3.7.0"
  }
 },
 "nbformat": 4,
 "nbformat_minor": 2
}
